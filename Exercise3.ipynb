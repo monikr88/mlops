{
 "cells": [
  {
   "cell_type": "code",
   "execution_count": 2,
   "id": "2e061b6a",
   "metadata": {},
   "outputs": [],
   "source": [
    "# Get url from DVC\n",
    "import pandas as pd\n",
    "import dvc.api"
   ]
  },
  {
   "cell_type": "code",
   "execution_count": 18,
   "id": "78ffd20d",
   "metadata": {},
   "outputs": [],
   "source": [
    "path='data/wine_original.csv'\n",
    "repo='E:/DSTI/OneDrive - Data ScienceTech Institute/DS/MLOps/data_versioning' #'</path/to/data_versioning/folder>'"
   ]
  },
  {
   "cell_type": "code",
   "execution_count": 19,
   "id": "3fd4ada8",
   "metadata": {},
   "outputs": [],
   "source": [
    "data_url = dvc.api.get_url(\n",
    "  path=path,\n",
    "  repo=repo\n",
    "  )"
   ]
  },
  {
   "cell_type": "code",
   "execution_count": 20,
   "id": "5cad1e71",
   "metadata": {},
   "outputs": [
    {
     "name": "stdout",
     "output_type": "stream",
     "text": [
      "     fixed acidity volatile acidity citric acid residual sugar chlorides  \\\n",
      "0              7.4              0.7           0            1.9     0.076   \n",
      "1              7.8             0.88           0            2.6     0.098   \n",
      "2              7.8             0.76        0.04            2.3     0.092   \n",
      "3             11.2             0.28        0.56            1.9     0.075   \n",
      "4              7.4              0.7           0            1.9     0.076   \n",
      "...            ...              ...         ...            ...       ...   \n",
      "6193           6.4             0.57        0.14            3.9      0.07   \n",
      "6194           8.6            0.685         0.1            1.6     0.092   \n",
      "6195           8.7            0.675         0.1            1.6      0.09   \n",
      "6196           7.3             0.59        0.26              2      0.08   \n",
      "6197             7              0.6        0.12            2.2     0.083   \n",
      "\n",
      "     free sulfur dioxide total sulfur dioxide  density    pH sulphates  \\\n",
      "0                     11                   34   0.9978  3.51      0.56   \n",
      "1                     25                   67   0.9968   3.2      0.68   \n",
      "2                     15                   54    0.997  3.26      0.65   \n",
      "3                     17                   60    0.998  3.16      0.58   \n",
      "4                     11                   34   0.9978  3.51      0.56   \n",
      "...                  ...                  ...      ...   ...       ...   \n",
      "6193                  27                   73  0.99669  3.32      0.48   \n",
      "6194                   3                   12  0.99745  3.31      0.65   \n",
      "6195                   4                   11  0.99745  3.31      0.65   \n",
      "6196                  17                  104  0.99584  3.28      0.52   \n",
      "6197                  13                   28   0.9966  3.52      0.62   \n",
      "\n",
      "     alcohol quality  \n",
      "0        9.4       5  \n",
      "1        9.8       5  \n",
      "2        9.8       5  \n",
      "3        9.8       6  \n",
      "4        9.4       5  \n",
      "...      ...     ...  \n",
      "6193     9.2       5  \n",
      "6194    9.55       6  \n",
      "6195    9.55       5  \n",
      "6196     9.9       5  \n",
      "6197    10.2       7  \n",
      "\n",
      "[6198 rows x 12 columns]\n"
     ]
    }
   ],
   "source": [
    "data = pd.read_csv(data_url, sep=\";\")\n",
    "print(data)"
   ]
  },
  {
   "cell_type": "code",
   "execution_count": 21,
   "id": "7eee6e1f",
   "metadata": {},
   "outputs": [
    {
     "name": "stdout",
     "output_type": "stream",
     "text": [
      "(6398, 12)\n"
     ]
    }
   ],
   "source": [
    "data_url = dvc.api.get_url(\n",
    "  path=path,\n",
    "  repo=repo,\n",
    "  rev = \"v2\" # duplicated data\n",
    "  )\n",
    "\n",
    "data = pd.read_csv(data_url, sep=\";\")\n",
    "print(data.shape)"
   ]
  }
 ],
 "metadata": {
  "kernelspec": {
   "display_name": "Python 3.9.15 ('env_mlops')",
   "language": "python",
   "name": "python3"
  },
  "language_info": {
   "codemirror_mode": {
    "name": "ipython",
    "version": 3
   },
   "file_extension": ".py",
   "mimetype": "text/x-python",
   "name": "python",
   "nbconvert_exporter": "python",
   "pygments_lexer": "ipython3",
   "version": "3.9.15"
  },
  "vscode": {
   "interpreter": {
    "hash": "958f4562ce381c4392ab0ea5c986cfcd9be46fe5be335bb1f121411a22945305"
   }
  }
 },
 "nbformat": 4,
 "nbformat_minor": 5
}
